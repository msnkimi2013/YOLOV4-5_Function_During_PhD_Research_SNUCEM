{
  "nbformat": 4,
  "nbformat_minor": 0,
  "metadata": {
    "colab": {
      "provenance": [],
      "machine_shape": "hm",
      "gpuClass": "premium"
    },
    "kernelspec": {
      "name": "python3",
      "display_name": "Python 3"
    },
    "language_info": {
      "name": "python"
    },
    "accelerator": "GPU",
    "gpuClass": "premium"
  },
  "cells": [
    {
      "cell_type": "markdown",
      "source": [
        "### Cloning and Building Darknet"
      ],
      "metadata": {
        "id": "Z2RXhXCFyBjJ"
      }
    },
    {
      "cell_type": "code",
      "execution_count": null,
      "metadata": {
        "id": "SOIrrcckshyS",
        "colab": {
          "base_uri": "https://localhost:8080/"
        },
        "outputId": "2d2db99c-bc49-42b7-e2f0-e68f3b7d052d"
      },
      "outputs": [
        {
          "output_type": "stream",
          "name": "stdout",
          "text": [
            "Cloning into 'darknet'...\n",
            "remote: Enumerating objects: 15494, done.\u001b[K\n",
            "remote: Counting objects: 100% (4/4), done.\u001b[K\n",
            "remote: Compressing objects: 100% (4/4), done.\u001b[K\n",
            "remote: Total 15494 (delta 0), reused 2 (delta 0), pack-reused 15490\u001b[K\n",
            "Receiving objects: 100% (15494/15494), 14.11 MiB | 25.66 MiB/s, done.\n",
            "Resolving deltas: 100% (10408/10408), done.\n"
          ]
        }
      ],
      "source": [
        "# clone darknet repo\n",
        "!git clone https://github.com/AlexeyAB/darknet"
      ]
    },
    {
      "cell_type": "markdown",
      "source": [
        "Colab Cloud Service kicks you off it's VMs if you are idle for too long (30-90 mins).\n",
        "\n",
        "To avoid this hold (CTRL + SHIFT + i) at the same time to open up the inspector view on your browser.\n",
        "\n",
        "Paste the following code into your console window and hit Enter"
      ],
      "metadata": {
        "id": "iIncoB8E2FT4"
      }
    },
    {
      "cell_type": "code",
      "source": [
        "# 只能延长 谷歌变聪明了\n",
        "#############################################################\n",
        "# function ClickConnect(){\n",
        "# console.log(\"Working\");\n",
        "# document\n",
        "#   .querySelector('#top-toolbar > colab-connect-button')\n",
        "#   .shadowRoot.querySelector('#connect')\n",
        "#   .click()\n",
        "# }\n",
        "# setInterval(ClickConnect,60000)"
      ],
      "metadata": {
        "id": "kpnfO54X8iJO"
      },
      "execution_count": null,
      "outputs": []
    },
    {
      "cell_type": "markdown",
      "source": [
        "# /darknet/src/image.c"
      ],
      "metadata": {
        "id": "Ke9QUT9ny1zc"
      }
    },
    {
      "cell_type": "markdown",
      "source": [
        "# line 41"
      ],
      "metadata": {
        "id": "2v0Rx9Dlzs8L"
      }
    },
    {
      "cell_type": "markdown",
      "source": [
        "# //assert(x < m.w && y < m.h && c < m.c);"
      ],
      "metadata": {
        "id": "EJHAbliaztGs"
      }
    },
    {
      "cell_type": "code",
      "source": [
        "# change makefile to have GPU and OPENCV enabled\n",
        "%cd darknet\n",
        "!sed -i 's/OPENCV=0/OPENCV=1/' Makefile\n",
        "!sed -i 's/GPU=0/GPU=1/' Makefile\n",
        "!sed -i 's/CUDNN=0/CUDNN=1/' Makefile\n",
        "!sed -i 's/CUDNN_HALF=0/CUDNN_HALF=1/' Makefile"
      ],
      "metadata": {
        "colab": {
          "base_uri": "https://localhost:8080/"
        },
        "id": "ak5syCkT0Sjr",
        "outputId": "9474083b-8c9b-4938-8d5a-83f96df38d06"
      },
      "execution_count": null,
      "outputs": [
        {
          "output_type": "stream",
          "name": "stdout",
          "text": [
            "/content/darknet\n"
          ]
        }
      ]
    },
    {
      "cell_type": "code",
      "source": [
        "# verify CUDA\n",
        "!/usr/local/cuda/bin/nvcc --version"
      ],
      "metadata": {
        "colab": {
          "base_uri": "https://localhost:8080/"
        },
        "id": "lrl0F9Bf0cpl",
        "outputId": "d95390a4-bdcd-41bd-938a-7bd736aceff2"
      },
      "execution_count": null,
      "outputs": [
        {
          "output_type": "stream",
          "name": "stdout",
          "text": [
            "nvcc: NVIDIA (R) Cuda compiler driver\n",
            "Copyright (c) 2005-2021 NVIDIA Corporation\n",
            "Built on Sun_Feb_14_21:12:58_PST_2021\n",
            "Cuda compilation tools, release 11.2, V11.2.152\n",
            "Build cuda_11.2.r11.2/compiler.29618528_0\n"
          ]
        }
      ]
    },
    {
      "cell_type": "code",
      "source": [
        "# make darknet (builds darknet so that you can then use the darknet executable file to run or train object detectors)\n",
        "!make"
      ],
      "metadata": {
        "id": "jRzY8IEh0htn"
      },
      "execution_count": null,
      "outputs": []
    },
    {
      "cell_type": "markdown",
      "source": [
        "# **AAAAAAAAAAAAAAAAAAAAAAAAAAAAAAAAAAAAAAAAAAAAAAAAAAAAAAAAAAAAAAAAAAAAAAAAAAAAAAAAAAAAAAAAAAAAAAAAAAAAAAAAAAAAAAAAAAAAAAAAAAAAAAAAAAAAAAAAAAAAAAAAAAAAAAAAAAAAAAAAAAAAAAAAAAAAAAAA**"
      ],
      "metadata": {
        "id": "pynYaCSp18-9"
      }
    },
    {
      "cell_type": "code",
      "source": [
        "# !rm /content/darknet/backup_BW_spark_source_and_individual_spark/yolov4-obj_BW_spark_source_and_individual_spark_6000.weights"
      ],
      "metadata": {
        "id": "3RY15HnW88bk"
      },
      "execution_count": null,
      "outputs": []
    },
    {
      "cell_type": "code",
      "source": [
        "!pwd"
      ],
      "metadata": {
        "id": "ntaTccTGC92z",
        "colab": {
          "base_uri": "https://localhost:8080/"
        },
        "outputId": "01abae07-708e-43c5-b249-6ebb29e7ded1"
      },
      "execution_count": null,
      "outputs": [
        {
          "output_type": "stream",
          "name": "stdout",
          "text": [
            "/content/darknet\n"
          ]
        }
      ]
    },
    {
      "cell_type": "code",
      "source": [
        "%cd /content/darknet"
      ],
      "metadata": {
        "id": "L1sW7zqkC_xv",
        "colab": {
          "base_uri": "https://localhost:8080/"
        },
        "outputId": "47f08f8f-4ea9-4947-b98d-07738ef0b0e3"
      },
      "execution_count": null,
      "outputs": [
        {
          "output_type": "stream",
          "name": "stdout",
          "text": [
            "/content/darknet\n"
          ]
        }
      ]
    },
    {
      "cell_type": "markdown",
      "source": [
        "# 链接谷歌云盘"
      ],
      "metadata": {
        "id": "hHGbNkbyIN9h"
      }
    },
    {
      "cell_type": "code",
      "source": [
        "!mkdir /content/darknet/backup_BW_spark_source_and_individual_spark"
      ],
      "metadata": {
        "id": "gqWBTZvCQwKC"
      },
      "execution_count": null,
      "outputs": []
    },
    {
      "cell_type": "code",
      "source": [
        "import shutil\n",
        "shutil.copy(\"/content/drive/MyDrive/yolov4-obj_BW_spark_source_and_individual_spark_Colab_Multi_Test/yolov4-obj_BW_spark_source_and_individual_spark_6000.weights\", \"/content/darknet/backup_BW_spark_source_and_individual_spark\")"
      ],
      "metadata": {
        "colab": {
          "base_uri": "https://localhost:8080/",
          "height": 35
        },
        "id": "JD8aB_w_Qi4a",
        "outputId": "b0bdb384-0a20-41cb-de49-f6bed6ea9fab"
      },
      "execution_count": null,
      "outputs": [
        {
          "output_type": "execute_result",
          "data": {
            "text/plain": [
              "'/content/darknet/backup_BW_spark_source_and_individual_spark/yolov4-obj_BW_spark_source_and_individual_spark_6000.weights'"
            ],
            "application/vnd.google.colaboratory.intrinsic+json": {
              "type": "string"
            }
          },
          "metadata": {},
          "execution_count": 9
        }
      ]
    },
    {
      "cell_type": "code",
      "source": [
        "shutil.copy(\"/content/drive/MyDrive/yolov4-obj_BW_spark_source_and_individual_spark_Colab_Multi_Test/obj_BW_spark_source_and_individual_spark.data\", \"/content/darknet/data\")\n",
        "shutil.copy(\"/content/drive/MyDrive/yolov4-obj_BW_spark_source_and_individual_spark_Colab_Multi_Test/obj_BW_spark_source_and_individual_spark.names\", \"/content/darknet/data\")\n",
        "shutil.copy(\"/content/drive/MyDrive/yolov4-obj_BW_spark_source_and_individual_spark_Colab_Multi_Test/obj_BW_spark_source_and_individual_spark.zip\", \"/content/darknet/data\")\n",
        "shutil.copy(\"/content/drive/MyDrive/yolov4-obj_BW_spark_source_and_individual_spark_Colab_Multi_Test/test_BW_spark_source_and_individual_spark.txt\", \"/content/darknet/data\")\n",
        "shutil.copy(\"/content/drive/MyDrive/yolov4-obj_BW_spark_source_and_individual_spark_Colab_Multi_Test/test_BW_spark_source_and_individual_spark.zip\", \"/content/darknet/data\")\n",
        "shutil.copy(\"/content/drive/MyDrive/yolov4-obj_BW_spark_source_and_individual_spark_Colab_Multi_Test/train_BW_spark_source_and_individual_spark.txt\", \"/content/darknet/data\")\n",
        "shutil.copy(\"/content/drive/MyDrive/yolov4-obj_BW_spark_source_and_individual_spark_Colab_Multi_Test/yolov4-obj_BW_spark_source_and_individual_spark.cfg\", \"/content/darknet\")\n",
        "# shutil.copy(\"\", \"/content/darknet/data\")\n",
        "# shutil.copy(\"\", \"/content/darknet/data\")"
      ],
      "metadata": {
        "colab": {
          "base_uri": "https://localhost:8080/",
          "height": 35
        },
        "id": "rRLUSyNMS927",
        "outputId": "9bd215b7-5f5d-4531-a720-fe2d188793cc"
      },
      "execution_count": null,
      "outputs": [
        {
          "output_type": "execute_result",
          "data": {
            "text/plain": [
              "'/content/darknet/yolov4-obj_BW_spark_source_and_individual_spark.cfg'"
            ],
            "application/vnd.google.colaboratory.intrinsic+json": {
              "type": "string"
            }
          },
          "metadata": {},
          "execution_count": 10
        }
      ]
    },
    {
      "cell_type": "code",
      "source": [
        "!pwd"
      ],
      "metadata": {
        "id": "lrwr5HkEDDkM",
        "colab": {
          "base_uri": "https://localhost:8080/"
        },
        "outputId": "b4debd41-6677-40fc-edd0-84654831c18e"
      },
      "execution_count": null,
      "outputs": [
        {
          "output_type": "stream",
          "name": "stdout",
          "text": [
            "/content/darknet\n"
          ]
        }
      ]
    },
    {
      "cell_type": "code",
      "source": [
        "%cd /content/darknet/data"
      ],
      "metadata": {
        "colab": {
          "base_uri": "https://localhost:8080/"
        },
        "id": "FND1TXL2Us-a",
        "outputId": "dea88440-b7ff-4f56-b0e8-8ef393dd7722"
      },
      "execution_count": null,
      "outputs": [
        {
          "output_type": "stream",
          "name": "stdout",
          "text": [
            "/content/darknet/data\n"
          ]
        }
      ]
    },
    {
      "cell_type": "code",
      "source": [
        "!unzip obj_BW_spark_source_and_individual_spark.zip"
      ],
      "metadata": {
        "id": "LYkHByKSDFja"
      },
      "execution_count": null,
      "outputs": []
    },
    {
      "cell_type": "code",
      "source": [
        "!unzip test_BW_spark_source_and_individual_spark.zip"
      ],
      "metadata": {
        "id": "xX45NkhlDcGY"
      },
      "execution_count": null,
      "outputs": []
    },
    {
      "cell_type": "code",
      "source": [
        "%cd /content/darknet"
      ],
      "metadata": {
        "id": "jncoQ858BYcM",
        "colab": {
          "base_uri": "https://localhost:8080/"
        },
        "outputId": "662561b8-ebee-4022-e354-8894dd9d3845"
      },
      "execution_count": null,
      "outputs": [
        {
          "output_type": "stream",
          "name": "stdout",
          "text": [
            "/content/darknet\n"
          ]
        }
      ]
    },
    {
      "cell_type": "code",
      "source": [
        "!./darknet detector test ./data/obj_BW_spark_source_and_individual_spark.data ./yolov4-obj_BW_spark_source_and_individual_spark.cfg ./backup_BW_spark_source_and_individual_spark/yolov4-obj_BW_spark_source_and_individual_spark_6000.weights ./data/test_BW_spark_source_and_individual_spark/97-510.jpg -dont_show -ext_output"
      ],
      "metadata": {
        "id": "1TUzyRwPD3bP"
      },
      "execution_count": null,
      "outputs": []
    },
    {
      "cell_type": "markdown",
      "source": [
        "## **BBBBBBBBBBBBBBBBBBBBBBBBBBBBBBBBBBBBBBBBBBBBBBBBBBBBBBBBBBBBBBBBBBBBBBBBBBBBBBBBBBBBBBBBBBBBBBBBBBBBBBBBBBBBBBBBBBBBB**"
      ],
      "metadata": {
        "id": "OW8tep3QBgDl"
      }
    },
    {
      "cell_type": "code",
      "source": [
        "# import shutil\n",
        "\n",
        "shutil.copy(\"/content/drive/MyDrive/yolov4-obj_BW_spark_source_and_individual_spark_Colab_Multi_Test/multi_image.txt\", \"/content/darknet/data\")\n",
        "shutil.copy(\"/content/drive/MyDrive/yolov4-obj_BW_spark_source_and_individual_spark_Colab_Multi_Test/Vmin250_ColorMask.zip\", \"/content/darknet/data\")\n",
        "\n",
        "# shutil.copy(\"\", \"/content/darknet/data\")\n",
        "# shutil.copy(\"\", \"/content/darknet/data\")"
      ],
      "metadata": {
        "colab": {
          "base_uri": "https://localhost:8080/",
          "height": 35
        },
        "id": "TwNUlaYjMtFa",
        "outputId": "7445a7bd-7405-4e63-886d-dd3842aab97f"
      },
      "execution_count": null,
      "outputs": [
        {
          "output_type": "execute_result",
          "data": {
            "text/plain": [
              "'/content/darknet/data/Vmin250_ColorMask.zip'"
            ],
            "application/vnd.google.colaboratory.intrinsic+json": {
              "type": "string"
            }
          },
          "metadata": {},
          "execution_count": 17
        }
      ]
    },
    {
      "cell_type": "code",
      "source": [
        "!pwd"
      ],
      "metadata": {
        "colab": {
          "base_uri": "https://localhost:8080/"
        },
        "id": "zkpBrrfNWzbb",
        "outputId": "b1968f7a-9441-464d-f0bc-fbeebaafaca2"
      },
      "execution_count": null,
      "outputs": [
        {
          "output_type": "stream",
          "name": "stdout",
          "text": [
            "/content/darknet\n"
          ]
        }
      ]
    },
    {
      "cell_type": "code",
      "source": [
        "%cd /content/darknet/data"
      ],
      "metadata": {
        "colab": {
          "base_uri": "https://localhost:8080/"
        },
        "id": "h1YUqqJzW2Lk",
        "outputId": "74e55886-2502-4a72-c050-8dec6bedbdc7"
      },
      "execution_count": null,
      "outputs": [
        {
          "output_type": "stream",
          "name": "stdout",
          "text": [
            "/content/darknet/data\n"
          ]
        }
      ]
    },
    {
      "cell_type": "code",
      "source": [
        "!unzip Vmin250_ColorMask.zip"
      ],
      "metadata": {
        "id": "BW1nYFEiW6Qn"
      },
      "execution_count": null,
      "outputs": []
    },
    {
      "cell_type": "code",
      "source": [
        "%cd /content/darknet"
      ],
      "metadata": {
        "colab": {
          "base_uri": "https://localhost:8080/"
        },
        "id": "MkLRFwYNXBPj",
        "outputId": "ecded235-5d6e-457a-87a0-428574b766f6"
      },
      "execution_count": null,
      "outputs": [
        {
          "output_type": "stream",
          "name": "stdout",
          "text": [
            "/content/darknet\n"
          ]
        }
      ]
    },
    {
      "cell_type": "code",
      "source": [
        "# multiple image test output json\n",
        "!./darknet detector test ./data/obj_BW_spark_source_and_individual_spark.data ./yolov4-obj_BW_spark_source_and_individual_spark.cfg ./backup_BW_spark_source_and_individual_spark/yolov4-obj_BW_spark_source_and_individual_spark_6000.weights -ext_output -dont_show -out result.json < /content/darknet/data/multi_image.txt"
      ],
      "metadata": {
        "id": "celJZu9oLuEu"
      },
      "execution_count": null,
      "outputs": []
    },
    {
      "cell_type": "markdown",
      "source": [
        "## /content/darknet/data/Vmin250_ColorMask/1/51.jpg => /content/darknet/data/Vmin250_ColorMask/A/51.jpg   重复100次   下载json编号"
      ],
      "metadata": {
        "id": "DRAMp0BddYi2"
      }
    },
    {
      "cell_type": "code",
      "source": [
        "# /content/darknet/data/Vmin250_ColorMask/1/51.jpg"
      ],
      "metadata": {
        "id": "SJCbtXd0cKvo"
      },
      "execution_count": null,
      "outputs": []
    },
    {
      "cell_type": "markdown",
      "source": [
        "# CCCCCCCCCCCCCCCCCCCCCCCCCCCCCCCCCCCCCCCCCCCCCCCCCCCCCCCCCCCCCCCCCCCCCCCCCCCCCCCCCCCCCCCCCCCCCCCCCCCCCCCCCCCCCCCCCCCCCCCCCCCCCCCCCCCCCCCCCCCCCCCCCCCCCCCCCCC"
      ],
      "metadata": {
        "id": "PjuhI2RhBL9x"
      }
    },
    {
      "cell_type": "code",
      "source": [
        "# check colab pro gpu\n",
        "\n",
        "gpu_info = !nvidia-smi\n",
        "gpu_info = '\\n'.join(gpu_info)\n",
        "if gpu_info.find('failed') >= 0:\n",
        "  print('Not connected to a GPU')\n",
        "else:\n",
        "  print(gpu_info)"
      ],
      "metadata": {
        "id": "nMFo3IUWpDzp"
      },
      "execution_count": null,
      "outputs": []
    },
    {
      "cell_type": "code",
      "source": [
        "# multiple image test output TXT\n",
        "!./darknet detector test ./data/obj_BW_spark_source_and_individual_spark.data ./yolov4-obj_BW_spark_source_and_individual_spark.cfg ./backup_BW_spark_source_and_individual_spark/yolov4-obj_BW_spark_source_and_individual_spark_6000.weights -dont_show -ext_output < /content/darknet/data/multi_image.txt > result.txt"
      ],
      "metadata": {
        "id": "-knRFXUAvRlF"
      },
      "execution_count": null,
      "outputs": []
    }
  ]
}